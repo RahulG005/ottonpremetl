{
  "nbformat": 4,
  "nbformat_minor": 2,
  "metadata": {
    "language_info": {
      "name": "python"
    },
    "kernelspec": {
      "name": "synapse_pyspark",
      "display_name": "python"
    },
    "description": null,
    "save_output": false,
    "synapse_widget": {
      "version": "0.1",
      "state": {
        "edf1e8c1-9d6c-4558-bdff-a78494c43ede": {
          "type": "Synapse.DataFrame",
          "sync_state": {
            "table": {
              "rows": [
                {
                  "0": "Elisa & Marcela",
                  "1": "Romance",
                  "2": "2019-06-07",
                  "3": "6.6",
                  "4": "Spanish",
                  "5": "1396",
                  "6": "2023-02-03",
                  "7": "Medium",
                  "8": "1.97"
                },
                {
                  "0": "Bikram: Yogi, Guru, Predator",
                  "1": "Documentary",
                  "2": "2019-11-20",
                  "3": "6.7",
                  "4": "English",
                  "5": "286582",
                  "6": "2023-02-03",
                  "7": "Medium",
                  "8": "1.43"
                },
                {
                  "0": "Space Sweepers",
                  "1": "Science fiction",
                  "2": "2021-02-05",
                  "3": "6.6",
                  "4": "unknown",
                  "5": "327838",
                  "6": "2023-02-03",
                  "7": "Medium",
                  "8": "2.27"
                },
                {
                  "0": "Tallulah",
                  "1": "Comedy-drama",
                  "2": "2016-07-29",
                  "3": "6.7",
                  "4": "English",
                  "5": "154647",
                  "6": "2023-02-03",
                  "7": "Medium",
                  "8": "1.85"
                },
                {
                  "0": "Walk. Ride. Rodeo.",
                  "1": "Drama",
                  "2": "2019-03-08",
                  "3": "6.4",
                  "4": "English",
                  "5": "1263",
                  "6": "2023-02-03",
                  "7": "Medium",
                  "8": "1.65"
                },
                {
                  "0": "Shawn Mendes: In Wonder",
                  "1": "Documentary",
                  "2": "2020-11-23",
                  "3": "6.6",
                  "4": "English",
                  "5": "299718",
                  "6": "2023-02-03",
                  "7": "Medium",
                  "8": "1.38"
                },
                {
                  "0": "Oxygen",
                  "1": "Science fiction thriller",
                  "2": "2021-05-12",
                  "3": "6.5",
                  "4": "French",
                  "5": "217464",
                  "6": "2023-02-03",
                  "7": "Medium",
                  "8": "1.68"
                },
                {
                  "0": "The Irishman",
                  "1": "Crime drama",
                  "2": "2019-11-27",
                  "3": "7.8",
                  "4": "English",
                  "5": "133113",
                  "6": "2023-02-03",
                  "7": "Medium",
                  "8": "3.48"
                },
                {
                  "0": "The Mars Generation",
                  "1": "Documentary",
                  "2": "2017-05-05",
                  "3": "6.4",
                  "4": "English",
                  "5": "132580",
                  "6": "2023-02-03",
                  "7": "Medium",
                  "8": "1.62"
                },
                {
                  "0": "All the Bright Places",
                  "1": "Romance",
                  "2": "2020-02-28",
                  "3": "6.5",
                  "4": "English",
                  "5": "6160",
                  "6": "2023-02-03",
                  "7": "Medium",
                  "8": "1.8"
                },
                {
                  "0": "Someone Great",
                  "1": "Romantic comedy",
                  "2": "2019-04-19",
                  "3": "6.2",
                  "4": "English",
                  "5": "210349",
                  "6": "2023-02-03",
                  "7": "Medium",
                  "8": "1.53"
                },
                {
                  "0": "Baggio: The Divine Ponytail",
                  "1": "Biopic",
                  "2": "2021-05-26",
                  "3": "6.2",
                  "4": "Italian",
                  "5": "257426",
                  "6": "2023-02-03",
                  "7": "Medium",
                  "8": "1.53"
                },
                {
                  "0": "Octonauts & the Caves of Sac Actun",
                  "1": "Animation",
                  "2": "2020-08-14",
                  "3": "6.2",
                  "4": "English",
                  "5": "342183",
                  "6": "2023-02-03",
                  "7": "Medium",
                  "8": "1.2"
                },
                {
                  "0": "Notes for My Son",
                  "1": "Drama",
                  "2": "2020-11-24",
                  "3": "6.3",
                  "4": "Spanish",
                  "5": "280110",
                  "6": "2023-02-03",
                  "7": "Medium",
                  "8": "1.38"
                },
                {
                  "0": "Shimmer Lake",
                  "1": "Crime thriller",
                  "2": "2017-06-09",
                  "3": "6.3",
                  "4": "English",
                  "5": "492324",
                  "6": "2023-02-03",
                  "7": "Medium",
                  "8": "1.43"
                },
                {
                  "0": "Hope Frozen: A Quest to Live Twice",
                  "1": "Documentary",
                  "2": "2020-09-15",
                  "3": "6.7",
                  "4": "Thia/English",
                  "5": "7583",
                  "6": "2023-02-03",
                  "7": "Medium",
                  "8": "1.33"
                },
                {
                  "0": "The Willoughbys",
                  "1": "Animation/Comedy/Adventure",
                  "2": "2020-04-22",
                  "3": "6.4",
                  "4": "English",
                  "5": "385325",
                  "6": "2023-02-03",
                  "7": "Medium",
                  "8": "1.5"
                },
                {
                  "0": "Paper Lives",
                  "1": "Drama",
                  "2": "2021-03-12",
                  "3": "6.7",
                  "4": "Turkish",
                  "5": "217938",
                  "6": "2023-02-03",
                  "7": "Medium",
                  "8": "1.62"
                },
                {
                  "0": "Nappily Ever After",
                  "1": "Comedy-drama",
                  "2": "2018-09-21",
                  "3": "6.4",
                  "4": "English",
                  "5": "69509",
                  "6": "2023-02-03",
                  "7": "Medium",
                  "8": "1.63"
                },
                {
                  "0": "It Takes a Lunatic",
                  "1": "Documentary",
                  "2": "2019-10-25",
                  "3": "6.6",
                  "4": "English",
                  "5": "45579",
                  "6": "2023-02-03",
                  "7": "Medium",
                  "8": "2.1"
                },
                {
                  "0": "Antoine Griezmann: The Making of a Legend",
                  "1": "Documentary",
                  "2": "2019-03-21",
                  "3": "6.5",
                  "4": "French",
                  "5": "510100",
                  "6": "2023-02-03",
                  "7": "Medium",
                  "8": "1.0"
                },
                {
                  "0": "Travis Scott: Look Mom I Can Fly",
                  "1": "Documentary",
                  "2": "2019-08-28",
                  "3": "6.3",
                  "4": "English",
                  "5": "58782",
                  "6": "2023-02-03",
                  "7": "Medium",
                  "8": "1.42"
                },
                {
                  "0": "13th",
                  "1": "Documentary",
                  "2": "2016-10-07",
                  "3": "8.2",
                  "4": "English",
                  "5": "150353",
                  "6": "2023-02-03",
                  "7": "High",
                  "8": "1.67"
                },
                {
                  "0": "Imperial Dreams",
                  "1": "Drama",
                  "2": "2017-02-03",
                  "3": "6.7",
                  "4": "English",
                  "5": "135706",
                  "6": "2023-02-03",
                  "7": "Medium",
                  "8": "1.45"
                },
                {
                  "0": "Lust Stories",
                  "1": "Drama",
                  "2": "2018-06-15",
                  "3": "6.5",
                  "4": "Hindi",
                  "5": "18201",
                  "6": "2023-02-03",
                  "7": "Medium",
                  "8": "2.0"
                },
                {
                  "0": "Tigertail",
                  "1": "Drama",
                  "2": "2020-04-10",
                  "3": "6.5",
                  "4": "English/Taiwanese/Mandarin",
                  "5": "36322",
                  "6": "2023-02-03",
                  "7": "Medium",
                  "8": "1.52"
                },
                {
                  "0": "Strong Island",
                  "1": "Documentary",
                  "2": "2017-09-15",
                  "3": "6.4",
                  "4": "English",
                  "5": "193479",
                  "6": "2023-02-03",
                  "7": "Medium",
                  "8": "1.78"
                },
                {
                  "0": "Michael Bolton's Big, Sexy, Valentine's Day Special",
                  "1": "Variety Show",
                  "2": "2017-02-07",
                  "3": "6.7",
                  "4": "English",
                  "5": "84016",
                  "6": "2023-02-03",
                  "7": "Medium",
                  "8": "0.9"
                },
                {
                  "0": "Bird Box",
                  "1": "Psychological thriller",
                  "2": "2018-12-21",
                  "3": "6.6",
                  "4": "English",
                  "5": "379088",
                  "6": "2023-02-03",
                  "7": "Medium",
                  "8": "2.07"
                },
                {
                  "0": "Ajeeb Daastaans",
                  "1": "Drama",
                  "2": "2021-04-16",
                  "3": "6.7",
                  "4": "Hindi",
                  "5": "677044",
                  "6": "2023-02-03",
                  "7": "Medium",
                  "8": "2.37"
                },
                {
                  "0": "Apostle",
                  "1": "Horror-thriller",
                  "2": "2018-10-12",
                  "3": "6.3",
                  "4": "English",
                  "5": "53441",
                  "6": "2023-02-03",
                  "7": "Medium",
                  "8": "2.15"
                },
                {
                  "0": "Fractured",
                  "1": "Thriller",
                  "2": "2019-10-11",
                  "3": "6.4",
                  "4": "English",
                  "5": "43929",
                  "6": "2023-02-03",
                  "7": "Medium",
                  "8": "1.67"
                },
                {
                  "0": "Marriage Story",
                  "1": "Drama",
                  "2": "2019-12-06",
                  "3": "7.9",
                  "4": "English",
                  "5": "47804",
                  "6": "2023-02-03",
                  "7": "Medium",
                  "8": "2.27"
                },
                {
                  "0": "Uncorked",
                  "1": "Drama",
                  "2": "2020-03-27",
                  "3": "6.3",
                  "4": "English",
                  "5": "226631",
                  "6": "2023-02-03",
                  "7": "Medium",
                  "8": "1.72"
                },
                {
                  "0": "His House",
                  "1": "Thriller",
                  "2": "2020-10-30",
                  "3": "6.5",
                  "4": "unknown",
                  "5": "352801",
                  "6": "2023-02-03",
                  "7": "Medium",
                  "8": "1.55"
                },
                {
                  "0": "Chopsticks",
                  "1": "Comedy",
                  "2": "2019-05-31",
                  "3": "6.5",
                  "4": "Hindi",
                  "5": "12643",
                  "6": "2023-02-03",
                  "7": "Medium",
                  "8": "1.67"
                },
                {
                  "0": "Isi & Ossi",
                  "1": "Romantic comedy",
                  "2": "2020-02-14",
                  "3": "6.4",
                  "4": "German",
                  "5": "249425",
                  "6": "2023-02-03",
                  "7": "Medium",
                  "8": "1.88"
                },
                {
                  "0": "Nobody Knows I'm Here",
                  "1": "Drama",
                  "2": "2020-06-24",
                  "3": "6.5",
                  "4": "Spanish",
                  "5": "271301",
                  "6": "2023-02-03",
                  "7": "Medium",
                  "8": "1.52"
                },
                {
                  "0": "Gerald's Game",
                  "1": "Horror thriller",
                  "2": "2017-09-29",
                  "3": "6.5",
                  "4": "English",
                  "5": "353305",
                  "6": "2023-02-03",
                  "7": "Medium",
                  "8": "1.72"
                },
                {
                  "0": "CounterPunch ",
                  "1": "Documentary",
                  "2": "2017-06-16",
                  "3": "6.7",
                  "4": "English",
                  "5": "11702",
                  "6": "2023-02-03",
                  "7": "Medium",
                  "8": "1.52"
                },
                {
                  "0": "Road to Roma",
                  "1": "Making-of",
                  "2": "2020-02-11",
                  "3": "7.7",
                  "4": "Spanish",
                  "5": "90372",
                  "6": "2023-02-03",
                  "7": "Medium",
                  "8": "1.2"
                },
                {
                  "0": "The Discovery",
                  "1": "Science fiction/Drama",
                  "2": "2017-03-31",
                  "3": "6.3",
                  "4": "English",
                  "5": "110773",
                  "6": "2023-02-03",
                  "7": "Medium",
                  "8": "1.7"
                },
                {
                  "0": "The Legend of Cocaine Island",
                  "1": "Documentary",
                  "2": "2019-03-29",
                  "3": "6.3",
                  "4": "English",
                  "5": "30405",
                  "6": "2023-02-03",
                  "7": "Medium",
                  "8": "1.45"
                },
                {
                  "0": "ARQ",
                  "1": "Science fiction/Thriller",
                  "2": "2016-09-16",
                  "3": "6.4",
                  "4": "English",
                  "5": "577010",
                  "6": "2023-02-03",
                  "7": "Medium",
                  "8": "1.47"
                },
                {
                  "0": "Chasing Coral ",
                  "1": "Documentary",
                  "2": "2017-07-14",
                  "3": "8.1",
                  "4": "English",
                  "5": "26521",
                  "6": "2023-02-03",
                  "7": "High",
                  "8": "1.48"
                },
                {
                  "0": "June & Kopi",
                  "1": "Drama",
                  "2": "2021-01-28",
                  "3": "6.3",
                  "4": "Indonesian",
                  "5": "52144",
                  "6": "2023-02-03",
                  "7": "Medium",
                  "8": "1.5"
                },
                {
                  "0": "The Red Sea Diving Resort",
                  "1": "Spy thriller",
                  "2": "2019-07-31",
                  "3": "6.6",
                  "4": "English",
                  "5": "417663",
                  "6": "2023-02-03",
                  "7": "Medium",
                  "8": "2.17"
                },
                {
                  "0": "Drive",
                  "1": "Action",
                  "2": "2019-11-01",
                  "3": "3.5",
                  "4": "Hindi",
                  "5": "56036",
                  "6": "2023-02-02",
                  "7": "Low",
                  "8": "2.45"
                },
                {
                  "0": "Whipped",
                  "1": "Romantic comedy",
                  "2": "2020-09-18",
                  "3": "4.1",
                  "4": "Indonesian",
                  "5": "323118",
                  "6": "2023-02-02",
                  "7": "Low",
                  "8": "1.62"
                },
                {
                  "0": "Naked",
                  "1": "Comedy",
                  "2": "2017-08-11",
                  "3": "5.4",
                  "4": "English",
                  "5": "7204",
                  "6": "2023-02-02",
                  "7": "Medium",
                  "8": "1.6"
                },
                {
                  "0": "Sarah Cooper: Everything's Fine",
                  "1": "Variety show",
                  "2": "2020-10-27",
                  "3": "5.6",
                  "4": "English",
                  "5": "477276",
                  "6": "2023-02-02",
                  "7": "Medium",
                  "8": "0.82"
                },
                {
                  "0": "Just Say Yes",
                  "1": "Romantic comedy",
                  "2": "2021-04-02",
                  "3": "4.5",
                  "4": "Dutch",
                  "5": "76193",
                  "6": "2023-02-02",
                  "7": "Low",
                  "8": "1.62"
                },
                {
                  "0": "Sol Levante",
                  "1": "Anime / Short",
                  "2": "2020-04-02",
                  "3": "4.7",
                  "4": "English",
                  "5": "120690",
                  "6": "2023-02-02",
                  "7": "Low",
                  "8": "0.07"
                },
                {
                  "0": "Take the 10",
                  "1": "Comedy",
                  "2": "2017-01-20",
                  "3": "4.8",
                  "4": "English",
                  "5": "5103",
                  "6": "2023-02-02",
                  "7": "Low",
                  "8": "1.33"
                },
                {
                  "0": "Red Dot",
                  "1": "Thriller",
                  "2": "2021-02-11",
                  "3": "5.5",
                  "4": "unknown",
                  "5": "48969",
                  "6": "2023-02-02",
                  "7": "Medium",
                  "8": "1.43"
                },
                {
                  "0": "Concrete Cowboy",
                  "1": "Drama",
                  "2": "2021-04-02",
                  "3": "6.3",
                  "4": "English",
                  "5": "2384",
                  "6": "2023-02-02",
                  "7": "Medium",
                  "8": "1.85"
                },
                {
                  "0": "Despite Everything",
                  "1": "Comedy",
                  "2": "2019-05-03",
                  "3": "5.4",
                  "4": "Spanish",
                  "5": "34110",
                  "6": "2023-02-02",
                  "7": "Medium",
                  "8": "1.3"
                },
                {
                  "0": "Porta dos Fundos: The First Temptation of Christ",
                  "1": "Comedy",
                  "2": "2019-12-03",
                  "3": "4.6",
                  "4": "Portuguese",
                  "5": "627797",
                  "6": "2023-02-02",
                  "7": "Low",
                  "8": "0.77"
                },
                {
                  "0": "Get the Grift",
                  "1": "Comedy",
                  "2": "2021-04-28",
                  "3": "5.5",
                  "4": "Portuguese",
                  "5": "3712",
                  "6": "2023-02-02",
                  "7": "Medium",
                  "8": "1.57"
                },
                {
                  "0": "Win It All",
                  "1": "Comedy",
                  "2": "2017-04-07",
                  "3": "6.2",
                  "4": "English",
                  "5": "581518",
                  "6": "2023-02-02",
                  "7": "Medium",
                  "8": "1.47"
                },
                {
                  "0": "Death Note",
                  "1": "Horror thriller",
                  "2": "2017-08-25",
                  "3": "4.4",
                  "4": "English",
                  "5": "340798",
                  "6": "2023-02-02",
                  "7": "Low",
                  "8": "1.67"
                },
                {
                  "0": "The Beast",
                  "1": "Drama",
                  "2": "2020-11-27",
                  "3": "5.2",
                  "4": "Italian",
                  "5": "865134",
                  "6": "2023-02-02",
                  "7": "Medium",
                  "8": "1.65"
                },
                {
                  "0": "Maska",
                  "1": "Romantic comedy",
                  "2": "2020-03-27",
                  "3": "5.9",
                  "4": "Hindi",
                  "5": "471815",
                  "6": "2023-02-02",
                  "7": "Medium",
                  "8": "1.85"
                },
                {
                  "0": "Dad Wanted",
                  "1": "Family",
                  "2": "2020-09-11",
                  "3": "5.7",
                  "4": "Spanish",
                  "5": "1039115",
                  "6": "2023-02-02",
                  "7": "Medium",
                  "8": "1.7"
                },
                {
                  "0": "Dolly Parton's Christmas on the Square",
                  "1": "Christmas musical",
                  "2": "2020-11-22",
                  "3": "5.2",
                  "4": "English",
                  "5": "291147",
                  "6": "2023-02-02",
                  "7": "Medium",
                  "8": "1.63"
                },
                {
                  "0": "Coffee & Kareem",
                  "1": "Action comedy",
                  "2": "2020-04-03",
                  "3": "5.1",
                  "4": "English",
                  "5": "35870",
                  "6": "2023-02-02",
                  "7": "Medium",
                  "8": "1.47"
                },
                {
                  "0": "Tribhanga � Tedhi Medhi Crazy",
                  "1": "Drama",
                  "2": "2021-01-15",
                  "3": "6.1",
                  "4": "Hindi",
                  "5": "416689",
                  "6": "2023-02-02",
                  "7": "Medium",
                  "8": "1.58"
                },
                {
                  "0": "Ibiza",
                  "1": "Comedy",
                  "2": "2018-05-25",
                  "3": "5.2",
                  "4": "English",
                  "5": "498821",
                  "6": "2023-02-02",
                  "7": "Medium",
                  "8": "1.57"
                },
                {
                  "0": "The Most Assassinated Woman in the World",
                  "1": "Thriller",
                  "2": "2018-09-07",
                  "3": "5.3",
                  "4": "French",
                  "5": "162122",
                  "6": "2023-02-02",
                  "7": "Medium",
                  "8": "1.7"
                },
                {
                  "0": "Have You Ever Seen Fireflies?",
                  "1": "Comedy",
                  "2": "2021-04-09",
                  "3": "6.2",
                  "4": "Turkish",
                  "5": "557965",
                  "6": "2023-02-02",
                  "7": "Medium",
                  "8": "1.9"
                },
                {
                  "0": "Airplane Mode",
                  "1": "Comedy",
                  "2": "2020-01-23",
                  "3": "5.0",
                  "4": "Portuguese",
                  "5": "1791916",
                  "6": "2023-02-02",
                  "7": "Medium",
                  "8": "1.6"
                }
              ],
              "schema": [
                {
                  "key": "0",
                  "name": "Title",
                  "type": "string"
                },
                {
                  "key": "1",
                  "name": "Genre",
                  "type": "string"
                },
                {
                  "key": "2",
                  "name": "ReleaseDate",
                  "type": "date"
                },
                {
                  "key": "3",
                  "name": "IMDB_Score",
                  "type": "double"
                },
                {
                  "key": "4",
                  "name": "Language",
                  "type": "string"
                },
                {
                  "key": "5",
                  "name": "Views",
                  "type": "int"
                },
                {
                  "key": "6",
                  "name": "AddedDate",
                  "type": "date"
                },
                {
                  "key": "7",
                  "name": "IMDB_category",
                  "type": "string"
                },
                {
                  "key": "8",
                  "name": "Runtime_hours",
                  "type": "double"
                }
              ],
              "truncated": false
            },
            "isSummary": false,
            "language": "scala",
            "wranglerEntryContext": {
              "candidateVariableNames": [
                "df"
              ],
              "dataframeType": "pyspark"
            }
          },
          "persist_state": {
            "view": {
              "type": "details",
              "tableOptions": {},
              "chartOptions": {
                "chartType": "bar",
                "aggregationType": "sum",
                "categoryFieldKeys": [
                  "0"
                ],
                "seriesFieldKeys": [
                  "3"
                ],
                "isStacked": false
              }
            }
          }
        }
      }
    }
  },
  "cells": [
    {
      "cell_type": "code",
      "execution_count": 45,
      "outputs": [
        {
          "output_type": "display_data",
          "data": {
            "application/vnd.livy.statement-meta+json": {
              "spark_pool": "sparkpool",
              "statement_id": 34,
              "statement_ids": [
                34
              ],
              "state": "finished",
              "livy_statement_state": "available",
              "spark_jobs": null,
              "session_id": "13",
              "normalized_state": "finished",
              "queued_time": "2024-12-01T03:43:14.8959689Z",
              "session_start_time": null,
              "execution_start_time": "2024-12-01T03:43:15.0782255Z",
              "execution_finish_time": "2024-12-01T03:43:15.251807Z",
              "parent_msg_id": "bdc6f457-c780-452d-8641-bc205f94732d"
            },
            "text/plain": "StatementMeta(sparkpool, 13, 34, Finished, Available, Finished)"
          },
          "metadata": {}
        }
      ],
      "metadata": {
        "jupyter": {
          "source_hidden": false,
          "outputs_hidden": false
        },
        "nteract": {
          "transient": {
            "deleting": false
          }
        }
      },
      "source": [
        "from pyspark.sql.functions import *"
      ]
    },
    {
      "cell_type": "code",
      "execution_count": 46,
      "outputs": [
        {
          "output_type": "display_data",
          "data": {
            "application/vnd.livy.statement-meta+json": {
              "spark_pool": "sparkpool",
              "statement_id": 35,
              "statement_ids": [
                35
              ],
              "state": "finished",
              "livy_statement_state": "available",
              "spark_jobs": null,
              "session_id": "13",
              "normalized_state": "finished",
              "queued_time": "2024-12-01T03:43:16.6554856Z",
              "session_start_time": null,
              "execution_start_time": "2024-12-01T03:43:16.8191011Z",
              "execution_finish_time": "2024-12-01T03:43:16.988916Z",
              "parent_msg_id": "dff17e7b-ce57-4e45-afed-0d0b7745d77c"
            },
            "text/plain": "StatementMeta(sparkpool, 13, 35, Finished, Available, Finished)"
          },
          "metadata": {}
        }
      ],
      "metadata": {
        "jupyter": {
          "source_hidden": false,
          "outputs_hidden": false
        },
        "nteract": {
          "transient": {
            "deleting": false
          }
        }
      },
      "source": [
        "from notebookutils import mssparkutils"
      ]
    },
    {
      "cell_type": "code",
      "execution_count": 47,
      "outputs": [
        {
          "output_type": "display_data",
          "data": {
            "application/vnd.livy.statement-meta+json": {
              "spark_pool": "sparkpool",
              "statement_id": 36,
              "statement_ids": [
                36
              ],
              "state": "finished",
              "livy_statement_state": "available",
              "spark_jobs": null,
              "session_id": "13",
              "normalized_state": "finished",
              "queued_time": "2024-12-01T03:43:18.5942503Z",
              "session_start_time": null,
              "execution_start_time": "2024-12-01T03:43:18.7861139Z",
              "execution_finish_time": "2024-12-01T03:43:18.9626715Z",
              "parent_msg_id": "18960014-27fc-4d9d-82e7-48bf809eb1cd"
            },
            "text/plain": "StatementMeta(sparkpool, 13, 36, Finished, Available, Finished)"
          },
          "metadata": {}
        }
      ],
      "metadata": {
        "jupyter": {
          "source_hidden": false,
          "outputs_hidden": false
        },
        "nteract": {
          "transient": {
            "deleting": false
          }
        }
      },
      "source": [
        "dateFormat = \"%Y-%m-%d\"\r\n",
        "\r\n",
        "import datetime\r\n",
        "\r\n",
        "ts = spark.sql(\"select current_timestamp() as ctime\").collect()[0][\"ctime\"]\r\n",
        "\r\n",
        "todaydate = ts.strftime(dateFormat)"
      ]
    },
    {
      "cell_type": "code",
      "execution_count": 48,
      "outputs": [
        {
          "output_type": "display_data",
          "data": {
            "application/vnd.livy.statement-meta+json": {
              "spark_pool": "sparkpool",
              "statement_id": 37,
              "statement_ids": [
                37
              ],
              "state": "finished",
              "livy_statement_state": "available",
              "spark_jobs": null,
              "session_id": "13",
              "normalized_state": "finished",
              "queued_time": "2024-12-01T03:43:20.8749405Z",
              "session_start_time": null,
              "execution_start_time": "2024-12-01T03:43:21.0448462Z",
              "execution_finish_time": "2024-12-01T03:43:21.2099418Z",
              "parent_msg_id": "9db7c760-c2b0-4cff-84ac-5d4dc6afc9e9"
            },
            "text/plain": "StatementMeta(sparkpool, 13, 37, Finished, Available, Finished)"
          },
          "metadata": {}
        }
      ],
      "metadata": {
        "jupyter": {
          "source_hidden": false,
          "outputs_hidden": false
        },
        "nteract": {
          "transient": {
            "deleting": false
          }
        }
      },
      "source": [
        "sourceaccountname = \"storageottonprem011\"\r\n",
        "sourcecontainer = \"raw\"\r\n",
        "sourcelinkedservice = \"ls_adls\"\r\n",
        "sourcefilelocation = \"ingest/\"+todaydate\r\n",
        "apifilelocation = todaydate+\".csv\""
      ]
    },
    {
      "cell_type": "code",
      "execution_count": 49,
      "outputs": [
        {
          "output_type": "display_data",
          "data": {
            "application/vnd.livy.statement-meta+json": {
              "spark_pool": "sparkpool",
              "statement_id": 38,
              "statement_ids": [
                38
              ],
              "state": "finished",
              "livy_statement_state": "available",
              "spark_jobs": null,
              "session_id": "13",
              "normalized_state": "finished",
              "queued_time": "2024-12-01T03:43:23.7228335Z",
              "session_start_time": null,
              "execution_start_time": "2024-12-01T03:43:23.8891443Z",
              "execution_finish_time": "2024-12-01T03:43:24.0448031Z",
              "parent_msg_id": "9e0fb6f7-6413-4c57-a48c-e96438d008c5"
            },
            "text/plain": "StatementMeta(sparkpool, 13, 38, Finished, Available, Finished)"
          },
          "metadata": {}
        }
      ],
      "metadata": {
        "microsoft": {},
        "jupyter": {
          "source_hidden": false,
          "outputs_hidden": false
        },
        "nteract": {
          "transient": {
            "deleting": false
          }
        }
      },
      "source": [
        "\r\n",
        "source_full_storage_account_name = \"storageottonprem011.dfs.core.windows.net\"\r\n",
        "spark.conf.set(\"spark.storage.synapse.linkedServiceName\", f\"{sourcelinkedservice}\")\r\n",
        "spark.conf.set(f\"fs.azure.account.oauth.provider.type.{source_full_storage_account_name}\", \"com.microsoft.azure.synapse.tokenlibrary.LinkedServiceBasedTokenProvider\")\r\n",
        ""
      ]
    },
    {
      "cell_type": "code",
      "execution_count": 50,
      "outputs": [
        {
          "output_type": "display_data",
          "data": {
            "application/vnd.livy.statement-meta+json": {
              "spark_pool": "sparkpool",
              "statement_id": 39,
              "statement_ids": [
                39
              ],
              "state": "finished",
              "livy_statement_state": "available",
              "spark_jobs": null,
              "session_id": "13",
              "normalized_state": "finished",
              "queued_time": "2024-12-01T03:43:25.7773546Z",
              "session_start_time": null,
              "execution_start_time": "2024-12-01T03:43:25.9418935Z",
              "execution_finish_time": "2024-12-01T03:43:26.1092956Z",
              "parent_msg_id": "41aa6f05-375e-4f36-b106-ea4a7bc15522"
            },
            "text/plain": "StatementMeta(sparkpool, 13, 39, Finished, Available, Finished)"
          },
          "metadata": {}
        },
        {
          "output_type": "stream",
          "name": "stdout",
          "text": [
            "abfss://raw@storageottonprem011.dfs.core.windows.net/ingest/2024-12-01\nabfss://raw@storageottonprem011.dfs.core.windows.net/api/2024-12-01.csv\n"
          ]
        }
      ],
      "metadata": {
        "jupyter": {
          "source_hidden": false,
          "outputs_hidden": false
        },
        "nteract": {
          "transient": {
            "deleting": false
          }
        }
      },
      "source": [
        "file = f\"abfss://{sourcecontainer}@{sourceaccountname}.dfs.core.windows.net/{sourcefilelocation}\"\r\n",
        "apifile = f\"abfss://{sourcecontainer}@{sourceaccountname}.dfs.core.windows.net/api/{apifilelocation}\"\r\n",
        "print(file)\r\n",
        "print(apifile)"
      ]
    },
    {
      "cell_type": "code",
      "execution_count": 52,
      "outputs": [
        {
          "output_type": "display_data",
          "data": {
            "application/vnd.livy.statement-meta+json": {
              "spark_pool": "sparkpool",
              "statement_id": 41,
              "statement_ids": [
                41
              ],
              "state": "finished",
              "livy_statement_state": "available",
              "spark_jobs": null,
              "session_id": "13",
              "normalized_state": "finished",
              "queued_time": "2024-12-01T03:43:48.8990274Z",
              "session_start_time": null,
              "execution_start_time": "2024-12-01T03:43:49.0632703Z",
              "execution_finish_time": "2024-12-01T03:43:49.622246Z",
              "parent_msg_id": "a65f6ec0-8092-4cb1-b50f-8ab5e34f5b78"
            },
            "text/plain": "StatementMeta(sparkpool, 13, 41, Finished, Available, Finished)"
          },
          "metadata": {}
        }
      ],
      "metadata": {
        "jupyter": {
          "source_hidden": false,
          "outputs_hidden": false
        },
        "nteract": {
          "transient": {
            "deleting": false
          }
        }
      },
      "source": [
        "try:\r\n",
        "    source_df = spark.read.format('csv').option('header','true').option('inferschema','true').load(file)\r\n",
        "except Exception as e:\r\n",
        "    print(f\"File does not exist : {e}\")\r\n",
        "\r\n",
        ""
      ]
    },
    {
      "cell_type": "code",
      "execution_count": 53,
      "outputs": [
        {
          "output_type": "display_data",
          "data": {
            "application/vnd.livy.statement-meta+json": {
              "spark_pool": "sparkpool",
              "statement_id": 42,
              "statement_ids": [
                42
              ],
              "state": "finished",
              "livy_statement_state": "available",
              "spark_jobs": null,
              "session_id": "13",
              "normalized_state": "finished",
              "queued_time": "2024-12-01T03:44:00.2247724Z",
              "session_start_time": null,
              "execution_start_time": "2024-12-01T03:44:00.3959153Z",
              "execution_finish_time": "2024-12-01T03:44:00.5596159Z",
              "parent_msg_id": "e2b5ad88-1c7d-48ea-b815-8ab2b4787a19"
            },
            "text/plain": "StatementMeta(sparkpool, 13, 42, Finished, Available, Finished)"
          },
          "metadata": {}
        }
      ],
      "metadata": {
        "jupyter": {
          "source_hidden": false,
          "outputs_hidden": false
        },
        "nteract": {
          "transient": {
            "deleting": false
          }
        },
        "collapsed": false
      },
      "source": [
        "try:\r\n",
        "\r\n",
        "    nodeups_df = source_df\r\n",
        "\r\n",
        "    nodeups_df = nodeups_df.drop_duplicates()\r\n",
        "\r\n",
        "    nodeups_df = nodeups_df.na.drop(how='all')\r\n",
        "\r\n",
        "    df_nonulls = nodeups_df.na.fill(value='unknown')\r\n",
        "\r\n",
        "    df_nonulls = df_nonulls.withColumn(\"IMDB category\",\\\r\n",
        "        when(col(\"IMDB Score\").between(1,2.9),\"Very Low\")\\\r\n",
        "        .when(col(\"IMDB Score\").between(3,4.9),\"Low\")\\\r\n",
        "        .when(col(\"IMDB Score\").between(5,7.9),\"Medium\")\\\r\n",
        "        .otherwise(\"High\")\\\r\n",
        "        )\r\n",
        "\r\n",
        "    df = df_nonulls.withColumn(\"Runtime Hours\"\\\r\n",
        "        , round(df_nonulls.Runtime/60,2)\r\n",
        "        )\r\n",
        "\r\n",
        "    df = df.drop(\"Runtime\")\r\n",
        "\r\n",
        "    df = df.withColumn('ReleaseDate',to_date('ReleaseDate','dd-MM-yyyy'))\r\n",
        "    df = df.withColumn('AddedDate',to_date('AddedDate','dd-MM-yyyy'))\r\n",
        "    df = df.withColumnRenamed(\"IMDB Score\", \"IMDB_Score\")\r\n",
        "    df = df.withColumnRenamed(\"IMDB category\", \"IMDB_category\")\r\n",
        "    df = df.withColumnRenamed(\"Runtime Hours\", \"Runtime_hours\")\r\n",
        "except Exception as e:\r\n",
        "    print(\"source_df does not exist\")"
      ]
    },
    {
      "cell_type": "code",
      "execution_count": 54,
      "outputs": [
        {
          "output_type": "display_data",
          "data": {
            "application/vnd.livy.statement-meta+json": {
              "spark_pool": "sparkpool",
              "statement_id": 43,
              "statement_ids": [
                43
              ],
              "state": "finished",
              "livy_statement_state": "available",
              "spark_jobs": null,
              "session_id": "13",
              "normalized_state": "finished",
              "queued_time": "2024-12-01T03:44:06.104001Z",
              "session_start_time": null,
              "execution_start_time": "2024-12-01T03:44:06.2589593Z",
              "execution_finish_time": "2024-12-01T03:44:07.4279335Z",
              "parent_msg_id": "c6da656b-26e3-4692-b1a1-192c0806a534"
            },
            "text/plain": "StatementMeta(sparkpool, 13, 43, Finished, Available, Finished)"
          },
          "metadata": {}
        },
        {
          "output_type": "display_data",
          "data": {
            "application/vnd.synapse.widget-view+json": {
              "widget_id": "edf1e8c1-9d6c-4558-bdff-a78494c43ede",
              "widget_type": "Synapse.DataFrame"
            },
            "text/plain": "SynapseWidget(Synapse.DataFrame, edf1e8c1-9d6c-4558-bdff-a78494c43ede)"
          },
          "metadata": {}
        }
      ],
      "metadata": {
        "jupyter": {
          "source_hidden": false,
          "outputs_hidden": false
        },
        "nteract": {
          "transient": {
            "deleting": false
          }
        },
        "collapsed": false
      },
      "source": [
        "display(df)"
      ]
    },
    {
      "cell_type": "code",
      "execution_count": 55,
      "outputs": [
        {
          "output_type": "display_data",
          "data": {
            "application/vnd.livy.statement-meta+json": {
              "spark_pool": "sparkpool",
              "statement_id": 44,
              "statement_ids": [
                44
              ],
              "state": "finished",
              "livy_statement_state": "available",
              "spark_jobs": null,
              "session_id": "13",
              "normalized_state": "finished",
              "queued_time": "2024-12-01T03:44:12.0462504Z",
              "session_start_time": null,
              "execution_start_time": "2024-12-01T03:44:12.2025763Z",
              "execution_finish_time": "2024-12-01T03:44:12.3657519Z",
              "parent_msg_id": "1fca3b02-b39b-4c29-bd58-ef095b198b28"
            },
            "text/plain": "StatementMeta(sparkpool, 13, 44, Finished, Available, Finished)"
          },
          "metadata": {}
        }
      ],
      "metadata": {
        "jupyter": {
          "source_hidden": false,
          "outputs_hidden": false
        },
        "nteract": {
          "transient": {
            "deleting": false
          }
        },
        "collapsed": false
      },
      "source": [
        "destaccountname = \"storageottonprem011\"\r\n",
        "destcontainer = \"refined\"\r\n",
        "destfolder = \"data/\""
      ]
    },
    {
      "cell_type": "code",
      "execution_count": 56,
      "outputs": [
        {
          "output_type": "display_data",
          "data": {
            "application/vnd.livy.statement-meta+json": {
              "spark_pool": "sparkpool",
              "statement_id": 45,
              "statement_ids": [
                45
              ],
              "state": "finished",
              "livy_statement_state": "available",
              "spark_jobs": null,
              "session_id": "13",
              "normalized_state": "finished",
              "queued_time": "2024-12-01T03:44:15.6455461Z",
              "session_start_time": null,
              "execution_start_time": "2024-12-01T03:44:15.8258229Z",
              "execution_finish_time": "2024-12-01T03:44:17.7322406Z",
              "parent_msg_id": "7ec6ebf2-fa0e-40d6-9424-23c433d0931b"
            },
            "text/plain": "StatementMeta(sparkpool, 13, 45, Finished, Available, Finished)"
          },
          "metadata": {}
        }
      ],
      "metadata": {
        "jupyter": {
          "source_hidden": false,
          "outputs_hidden": false
        },
        "nteract": {
          "transient": {
            "deleting": false
          }
        }
      },
      "source": [
        "#writing data to adls\r\n",
        "try:\r\n",
        "    destpath = f\"abfss://{destcontainer}@{destaccountname}.dfs.core.windows.net/data\"\r\n",
        "\r\n",
        "    df.write\\\r\n",
        "    .mode(\"append\")\\\r\n",
        "    .format(\"parquet\")\\\r\n",
        "    .option(\"header\", \"true\")\\\r\n",
        "    .option(\"Inferschema\", \"true\")\\\r\n",
        "    .save(destpath)\r\n",
        "except Exception as e:\r\n",
        "    print(\"df does not exist\")"
      ]
    }
  ]
}