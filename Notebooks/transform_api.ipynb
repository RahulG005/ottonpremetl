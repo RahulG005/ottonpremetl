{
  "nbformat": 4,
  "nbformat_minor": 2,
  "metadata": {
    "language_info": {
      "name": "python"
    },
    "kernelspec": {
      "name": "synapse_pyspark",
      "display_name": "python"
    },
    "description": null,
    "save_output": false,
    "synapse_widget": {
      "version": "0.1",
      "state": {}
    }
  },
  "cells": [
    {
      "cell_type": "code",
      "execution_count": 65,
      "outputs": [
        {
          "output_type": "display_data",
          "data": {
            "application/vnd.livy.statement-meta+json": {
              "spark_pool": "sparkpool",
              "statement_id": 3,
              "statement_ids": [
                3
              ],
              "state": "finished",
              "livy_statement_state": "available",
              "spark_jobs": null,
              "session_id": "19",
              "normalized_state": "finished",
              "queued_time": "2024-12-01T18:09:43.347284Z",
              "session_start_time": null,
              "execution_start_time": "2024-12-01T18:09:43.5386346Z",
              "execution_finish_time": "2024-12-01T18:09:43.71934Z",
              "parent_msg_id": "66bf56e0-6777-4972-98fb-b65de56af66e"
            },
            "text/plain": "StatementMeta(sparkpool, 19, 3, Finished, Available, Finished)"
          },
          "metadata": {}
        }
      ],
      "metadata": {},
      "source": [
        "from pyspark.sql.functions import *\r\n",
        "import random"
      ]
    },
    {
      "cell_type": "code",
      "execution_count": 66,
      "outputs": [
        {
          "output_type": "display_data",
          "data": {
            "application/vnd.livy.statement-meta+json": {
              "spark_pool": "sparkpool",
              "statement_id": 4,
              "statement_ids": [
                4
              ],
              "state": "finished",
              "livy_statement_state": "available",
              "spark_jobs": null,
              "session_id": "19",
              "normalized_state": "finished",
              "queued_time": "2024-12-01T18:09:45.4295123Z",
              "session_start_time": null,
              "execution_start_time": "2024-12-01T18:09:45.6022615Z",
              "execution_finish_time": "2024-12-01T18:09:45.7822002Z",
              "parent_msg_id": "b28db69a-30b4-4312-afee-1052ef4be360"
            },
            "text/plain": "StatementMeta(sparkpool, 19, 4, Finished, Available, Finished)"
          },
          "metadata": {}
        }
      ],
      "metadata": {
        "jupyter": {
          "source_hidden": false,
          "outputs_hidden": false
        },
        "nteract": {
          "transient": {
            "deleting": false
          }
        }
      },
      "source": [
        "from notebookutils import mssparkutils"
      ]
    },
    {
      "cell_type": "code",
      "execution_count": 67,
      "outputs": [
        {
          "output_type": "display_data",
          "data": {
            "application/vnd.livy.statement-meta+json": {
              "spark_pool": "sparkpool",
              "statement_id": 5,
              "statement_ids": [
                5
              ],
              "state": "finished",
              "livy_statement_state": "available",
              "spark_jobs": null,
              "session_id": "19",
              "normalized_state": "finished",
              "queued_time": "2024-12-01T18:09:48.3156045Z",
              "session_start_time": null,
              "execution_start_time": "2024-12-01T18:09:48.4803595Z",
              "execution_finish_time": "2024-12-01T18:09:52.5200425Z",
              "parent_msg_id": "f96ad480-bd95-4125-b28f-abb62c827515"
            },
            "text/plain": "StatementMeta(sparkpool, 19, 5, Finished, Available, Finished)"
          },
          "metadata": {}
        }
      ],
      "metadata": {
        "jupyter": {
          "source_hidden": false,
          "outputs_hidden": false
        },
        "nteract": {
          "transient": {
            "deleting": false
          }
        }
      },
      "source": [
        "dateFormat = \"%Y-%m-%d\"\r\n",
        "\r\n",
        "import datetime\r\n",
        "\r\n",
        "ts = spark.sql(\"select current_timestamp() as ctime\").collect()[0][\"ctime\"]\r\n",
        "\r\n",
        "todaydate = ts.strftime(dateFormat)"
      ]
    },
    {
      "cell_type": "code",
      "execution_count": 68,
      "outputs": [
        {
          "output_type": "display_data",
          "data": {
            "application/vnd.livy.statement-meta+json": {
              "spark_pool": "sparkpool",
              "statement_id": 6,
              "statement_ids": [
                6
              ],
              "state": "finished",
              "livy_statement_state": "available",
              "spark_jobs": null,
              "session_id": "19",
              "normalized_state": "finished",
              "queued_time": "2024-12-01T18:09:50.842341Z",
              "session_start_time": null,
              "execution_start_time": "2024-12-01T18:09:52.7154212Z",
              "execution_finish_time": "2024-12-01T18:09:52.8885136Z",
              "parent_msg_id": "47671356-3679-48fd-9f13-1d723a59d293"
            },
            "text/plain": "StatementMeta(sparkpool, 19, 6, Finished, Available, Finished)"
          },
          "metadata": {}
        }
      ],
      "metadata": {
        "jupyter": {
          "source_hidden": false,
          "outputs_hidden": false
        },
        "nteract": {
          "transient": {
            "deleting": false
          }
        }
      },
      "source": [
        "sourceaccountname = \"storageottonprem011\"\r\n",
        "sourcelinkedservice = \"ls_adls\"\r\n",
        "apifilelocation = todaydate+\".csv\"\r\n",
        "MovieFilelocation = \"data\""
      ]
    },
    {
      "cell_type": "code",
      "execution_count": 69,
      "outputs": [
        {
          "output_type": "display_data",
          "data": {
            "application/vnd.livy.statement-meta+json": {
              "spark_pool": "sparkpool",
              "statement_id": 7,
              "statement_ids": [
                7
              ],
              "state": "finished",
              "livy_statement_state": "available",
              "spark_jobs": null,
              "session_id": "19",
              "normalized_state": "finished",
              "queued_time": "2024-12-01T18:09:54.0828986Z",
              "session_start_time": null,
              "execution_start_time": "2024-12-01T18:09:54.2528356Z",
              "execution_finish_time": "2024-12-01T18:09:54.4289625Z",
              "parent_msg_id": "84ce6c2a-caa4-4f97-a3c9-f2f71daaf646"
            },
            "text/plain": "StatementMeta(sparkpool, 19, 7, Finished, Available, Finished)"
          },
          "metadata": {}
        }
      ],
      "metadata": {
        "jupyter": {
          "source_hidden": false,
          "outputs_hidden": false
        },
        "nteract": {
          "transient": {
            "deleting": false
          }
        }
      },
      "source": [
        "source_full_storage_account_name = \"storageottonprem011.dfs.core.windows.net\"\r\n",
        "spark.conf.set(\"spark.storage.synapse.linkedServiceName\", f\"{sourcelinkedservice}\")\r\n",
        "spark.conf.set(f\"fs.azure.account.oauth.provider.type.{source_full_storage_account_name}\", \"com.microsoft.azure.synapse.tokenlibrary.LinkedServiceBasedTokenProvider\")\r\n",
        ""
      ]
    },
    {
      "cell_type": "code",
      "execution_count": 70,
      "outputs": [
        {
          "output_type": "display_data",
          "data": {
            "application/vnd.livy.statement-meta+json": {
              "spark_pool": "sparkpool",
              "statement_id": 8,
              "statement_ids": [
                8
              ],
              "state": "finished",
              "livy_statement_state": "available",
              "spark_jobs": null,
              "session_id": "19",
              "normalized_state": "finished",
              "queued_time": "2024-12-01T18:09:56.2110026Z",
              "session_start_time": null,
              "execution_start_time": "2024-12-01T18:09:56.3722805Z",
              "execution_finish_time": "2024-12-01T18:09:56.5437619Z",
              "parent_msg_id": "e0b7ede8-7888-4657-9c07-ebe291c5da29"
            },
            "text/plain": "StatementMeta(sparkpool, 19, 8, Finished, Available, Finished)"
          },
          "metadata": {}
        },
        {
          "output_type": "stream",
          "name": "stdout",
          "text": [
            "abfss://refined@storageottonprem011.dfs.core.windows.net/data\nabfss://raw@storageottonprem011.dfs.core.windows.net/api/2024-12-01.csv\n"
          ]
        }
      ],
      "metadata": {
        "jupyter": {
          "source_hidden": false,
          "outputs_hidden": false
        },
        "nteract": {
          "transient": {
            "deleting": false
          }
        }
      },
      "source": [
        "MovieFile = f\"abfss://refined@{sourceaccountname}.dfs.core.windows.net/{MovieFilelocation}\"\r\n",
        "apifile = f\"abfss://raw@{sourceaccountname}.dfs.core.windows.net/api/{apifilelocation}\"\r\n",
        "print(MovieFile)\r\n",
        "print(apifile)"
      ]
    },
    {
      "cell_type": "code",
      "execution_count": 71,
      "outputs": [
        {
          "output_type": "display_data",
          "data": {
            "application/vnd.livy.statement-meta+json": {
              "spark_pool": "sparkpool",
              "statement_id": 9,
              "statement_ids": [
                9
              ],
              "state": "finished",
              "livy_statement_state": "available",
              "spark_jobs": null,
              "session_id": "19",
              "normalized_state": "finished",
              "queued_time": "2024-12-01T18:09:58.7264391Z",
              "session_start_time": null,
              "execution_start_time": "2024-12-01T18:09:58.9505679Z",
              "execution_finish_time": "2024-12-01T18:10:07.7855626Z",
              "parent_msg_id": "e176e7c5-d6df-4652-8106-4a98ded5de78"
            },
            "text/plain": "StatementMeta(sparkpool, 19, 9, Finished, Available, Finished)"
          },
          "metadata": {}
        }
      ],
      "metadata": {
        "jupyter": {
          "source_hidden": false,
          "outputs_hidden": false
        },
        "nteract": {
          "transient": {
            "deleting": false
          }
        }
      },
      "source": [
        "try:\r\n",
        "    api_df = spark.read.format('csv').option('header','true').option('inferschema','true').load(apifile)\r\n",
        "    \r\n",
        "    movie_df = spark.read.format('parquet').option('header','true').option('inferschema','true').load(MovieFile)\r\n",
        "    \r\n",
        "    Genre_df=movie_df.groupBy(\"Genre\") .agg(collect_list(col(\"Title\")).alias(\"Top_Movies\"))\r\n",
        "    \r\n",
        "    api_df = api_df.withColumn(\"Preference_genre\", split(api_df[\"Preference_genre\"], \"\\\\|\"))\r\n",
        "    \r\n",
        "    updated_api_df = api_df.withColumn(\"Preference_genre\", col(\"Preference_genre\")[0]).select(\"email\", \"Preference_genre\")\r\n",
        "    \r\n",
        "    Genre_df = Genre_df.withColumn(\"movie1\", expr(\"Top_Movies[0]\"))\\\r\n",
        "                    .withColumn(\"movie2\", expr(\"IF(size(Top_Movies) > 1, Top_Movies[1], NULL)\")) \\\r\n",
        "                    .withColumn(\"movie3\", expr(\"IF(size(Top_Movies) > 2, Top_Movies[2], NULL)\"))\\\r\n",
        "                    .select(\"Genre\", \"movie1\", \"movie2\", \"movie3\")\r\n",
        "    \r\n",
        "    result_df = updated_api_df.join(Genre_df, updated_api_df.Preference_genre == Genre_df.Genre).select(\"email\", \"movie1\", \"movie2\", \"movie3\")\r\n",
        "\r\n",
        "    \r\n",
        "except Exception as e:\r\n",
        "    print(f\"File does not exist : {e}\")\r\n",
        ""
      ]
    },
    {
      "cell_type": "code",
      "execution_count": 72,
      "outputs": [
        {
          "output_type": "display_data",
          "data": {
            "application/vnd.livy.statement-meta+json": {
              "spark_pool": "sparkpool",
              "statement_id": 10,
              "statement_ids": [
                10
              ],
              "state": "finished",
              "livy_statement_state": "available",
              "spark_jobs": null,
              "session_id": "19",
              "normalized_state": "finished",
              "queued_time": "2024-12-01T18:10:11.0523525Z",
              "session_start_time": null,
              "execution_start_time": "2024-12-01T18:10:11.226535Z",
              "execution_finish_time": "2024-12-01T18:10:11.4103329Z",
              "parent_msg_id": "ee50c10e-8450-4213-ab56-d3ef5ceb2aee"
            },
            "text/plain": "StatementMeta(sparkpool, 19, 10, Finished, Available, Finished)"
          },
          "metadata": {}
        }
      ],
      "metadata": {
        "jupyter": {
          "source_hidden": false,
          "outputs_hidden": false
        },
        "nteract": {
          "transient": {
            "deleting": false
          }
        }
      },
      "source": [
        "destaccountname = \"storageottonprem011\"\r\n",
        "destcontainer = \"refined\"\r\n",
        "destfolder = \"data/\""
      ]
    },
    {
      "cell_type": "code",
      "execution_count": 73,
      "outputs": [
        {
          "output_type": "display_data",
          "data": {
            "application/vnd.livy.statement-meta+json": {
              "spark_pool": "sparkpool",
              "statement_id": 11,
              "statement_ids": [
                11
              ],
              "state": "finished",
              "livy_statement_state": "available",
              "spark_jobs": null,
              "session_id": "19",
              "normalized_state": "finished",
              "queued_time": "2024-12-01T18:10:16.8316945Z",
              "session_start_time": null,
              "execution_start_time": "2024-12-01T18:10:17.0049071Z",
              "execution_finish_time": "2024-12-01T18:10:21.0230043Z",
              "parent_msg_id": "2e1f1bf4-3438-4efe-b03c-3cec60b0d9fc"
            },
            "text/plain": "StatementMeta(sparkpool, 19, 11, Finished, Available, Finished)"
          },
          "metadata": {}
        }
      ],
      "metadata": {
        "jupyter": {
          "source_hidden": false,
          "outputs_hidden": false
        },
        "nteract": {
          "transient": {
            "deleting": false
          }
        }
      },
      "source": [
        "#writing data to adls\r\n",
        "try:\r\n",
        "    destpath = f\"abfss://{destcontainer}@{destaccountname}.dfs.core.windows.net/movie_recommendation\"\r\n",
        "\r\n",
        "    result_df.write\\\r\n",
        "    .mode(\"append\")\\\r\n",
        "    .format(\"parquet\")\\\r\n",
        "    .option(\"header\", \"true\")\\\r\n",
        "    .option(\"Inferschema\", \"true\")\\\r\n",
        "    .save(destpath)\r\n",
        "except Exception as e:\r\n",
        "    print(\"df does not exist\")"
      ]
    }
  ]
}